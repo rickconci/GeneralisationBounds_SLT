{
 "cells": [
  {
   "cell_type": "code",
   "execution_count": 1,
   "metadata": {},
   "outputs": [
    {
     "data": {
      "text/plain": [
       "{0: {'kernel_size': 2, 'out_channels': 200, 'stride': 1, 'padding': 0},\n",
       " 1: {'kernel_size': 2, 'out_channels': 200, 'stride': 1, 'padding': 0},\n",
       " 2: {'kernel_size': 2, 'out_channels': 200, 'stride': 1, 'padding': 0}}"
      ]
     },
     "execution_count": 1,
     "metadata": {},
     "output_type": "execute_result"
    }
   ],
   "source": [
    "from utils import create_kernel_dict\n",
    "\n",
    "create_kernel_dict(kernel_sizes=[2,2,2], out_channels=[200,200,200], strides=[1,1,1], paddings=[0,0,0])"
   ]
  },
  {
   "cell_type": "code",
   "execution_count": null,
   "metadata": {},
   "outputs": [],
   "source": []
  }
 ],
 "metadata": {
  "kernelspec": {
   "display_name": "expLight3",
   "language": "python",
   "name": "python3"
  },
  "language_info": {
   "codemirror_mode": {
    "name": "ipython",
    "version": 3
   },
   "file_extension": ".py",
   "mimetype": "text/x-python",
   "name": "python",
   "nbconvert_exporter": "python",
   "pygments_lexer": "ipython3",
   "version": "3.12.3"
  }
 },
 "nbformat": 4,
 "nbformat_minor": 2
}
